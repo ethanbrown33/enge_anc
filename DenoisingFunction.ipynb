{
  "nbformat": 4,
  "nbformat_minor": 0,
  "metadata": {
    "colab": {
      "provenance": [],
      "authorship_tag": "ABX9TyO+YUqvjS4WkmrmPf6ilvLw",
      "include_colab_link": true
    },
    "kernelspec": {
      "name": "python3",
      "display_name": "Python 3"
    },
    "language_info": {
      "name": "python"
    }
  },
  "cells": [
    {
      "cell_type": "markdown",
      "metadata": {
        "id": "view-in-github",
        "colab_type": "text"
      },
      "source": [
        "<a href=\"https://colab.research.google.com/github/ethanbrown33/enge_anc/blob/main/DenoisingFunction.ipynb\" target=\"_parent\"><img src=\"https://colab.research.google.com/assets/colab-badge.svg\" alt=\"Open In Colab\"/></a>"
      ]
    },
    {
      "cell_type": "code",
      "execution_count": 1,
      "metadata": {
        "id": "aMLCuJS-WT6l"
      },
      "outputs": [],
      "source": [
        "import matplotlib.pyplot as plt\n",
        "import numpy as np\n",
        "import pandas as pd\n",
        "import datetime\n",
        "import pywt\n",
        "from scipy.optimize import curve_fit\n",
        "\n",
        "import seaborn as sns\n",
        "from sklearn.linear_model import LinearRegression\n",
        "from sklearn.preprocessing import PolynomialFeatures\n",
        "from scipy import stats\n",
        "import scipy"
      ]
    },
    {
      "cell_type": "code",
      "source": [
        "def denoise(y2):\n",
        "  fft_signal = y2\n",
        "  y3 = y2\n",
        "  # y3 = []\n",
        "  # count = 0\n",
        "  # while(count < len(y2)):\n",
        "  #   y3.append(y2[count])\n",
        "  #   count += 1000\n",
        "  def filter_signal(th):\n",
        "    f_s = fft_filter(th)\n",
        "    return np.real(np.fft.ifft(f_s))\n",
        "  def fft_filter(perc):\n",
        "      fft_signal = np.fft.fft(y3)\n",
        "      fft_abs = np.abs(fft_signal)\n",
        "      th=perc*(2*fft_abs[0:int(len(y3))]/((len(y3)))).max()\n",
        "      fft_tof=fft_signal.copy()\n",
        "      fft_tof_abs=np.abs(fft_tof)\n",
        "      fft_tof[fft_tof_abs<=th]=0\n",
        "      return fft_tof\n",
        "  def fft_filter_amp(th):\n",
        "      fft = np.fft.fft(y3)\n",
        "      fft_tof=fft.copy()\n",
        "      fft_tof_abs=np.abs(fft_tof)\n",
        "      fft_tof_abs=2*fft_tof_abs/(len(fft_tof_abs)/2.)\n",
        "      fft_tof_abs[fft_tof_abs<=th]=0\n",
        "      return fft_tof_abs[0:int(len(fft_tof_abs)/2.)]\n",
        "  th_list = np.linspace(0,1,5)\n",
        "  th_list = th_list[0:len(th_list)-1]\n",
        "  th_list = np.array([0, 0.25, 0.5, 0.75])\n",
        "  th_list = np.linspace(0,0.02,1000)\n",
        "  th_list = th_list[0:len(th_list)]\n",
        "  p_values = []\n",
        "  corr_values = []\n",
        "  for t in th_list:\n",
        "      filt_signal = filter_signal(t)\n",
        "      res = stats.spearmanr(y3,y3-filt_signal)\n",
        "      p_values.append(res.pvalue)\n",
        "      corr_values.append(res.correlation)\n",
        "  th_opt = th_list[np.array(corr_values).argmin()]\n",
        "  opt_signal = filter_signal(th_opt)\n",
        "  return opt_signal"
      ],
      "metadata": {
        "id": "bBsBNF7VWYel"
      },
      "execution_count": 3,
      "outputs": []
    }
  ]
}